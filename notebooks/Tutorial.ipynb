{
 "cells": [
  {
   "cell_type": "code",
   "execution_count": 3,
   "id": "incident-reach",
   "metadata": {},
   "outputs": [
    {
     "name": "stdout",
     "output_type": "stream",
     "text": [
      "/workspace/src\n"
     ]
    }
   ],
   "source": [
    "%cd /workspace/src\n",
    "%load_ext autoreload\n",
    "%autoreload 2"
   ]
  },
  {
   "cell_type": "markdown",
   "id": "martial-newspaper",
   "metadata": {},
   "source": [
    "# Tutorial: How to use the Flashback-GPT model?\n",
    "\n",
    "This notebook will walk through how to use the Flashback-GPT model and show some helpful utilities to easily work with it."
   ]
  },
  {
   "cell_type": "code",
   "execution_count": 4,
   "id": "private-navigator",
   "metadata": {},
   "outputs": [],
   "source": [
    "import json\n",
    "from transformers import GPT2LMHeadModel, GPT2TokenizerFast\n",
    "from format import format_thread, format_header, format_thread_post, format_post_item, parse_thread\n",
    "from flashback_gpt import generate_post"
   ]
  },
  {
   "cell_type": "markdown",
   "id": "finished-smoke",
   "metadata": {},
   "source": [
    "## Load model and tokenizer\n",
    "\n",
    "Before we start, the model archive needs to be unpacked in the `data/` dir at the root of the repository. Once we got the model and tokenizer files in place, we can load it up:"
   ]
  },
  {
   "cell_type": "code",
   "execution_count": 5,
   "id": "statistical-lincoln",
   "metadata": {},
   "outputs": [],
   "source": [
    "tokenizer = GPT2TokenizerFast.from_pretrained(\"../data/model\")\n",
    "model = GPT2LMHeadModel.from_pretrained(\"../data/model\")"
   ]
  },
  {
   "cell_type": "markdown",
   "id": "intimate-saturn",
   "metadata": {},
   "source": [
    "## Raw generation from the language model"
   ]
  },
  {
   "cell_type": "markdown",
   "id": "australian-bearing",
   "metadata": {},
   "source": [
    "Perhaps the model is best explained by an example: What happens if we let the language model loose and ask it to generate a continuation from a single-word prompt \"Samhälle\"?"
   ]
  },
  {
   "cell_type": "code",
   "execution_count": 9,
   "id": "increasing-recruitment",
   "metadata": {},
   "outputs": [
    {
     "name": "stderr",
     "output_type": "stream",
     "text": [
      "Setting `pad_token_id` to `eos_token_id`:50256 for open-end generation.\n"
     ]
    },
    {
     "name": "stdout",
     "output_type": "stream",
     "text": [
      "Samhälle > Företagsskvaller\n",
      "Varning för Telge Energi\n",
      "\n",
      "[Användare anonymiserad]:\n",
      "Citat: [Användare anonymiserad]\n",
      "\tDu bor sjalv betala for att ha ett fungerande elsystem eller menar du att du vill betala for el som du inte paverkar?\n",
      "Jag är ingen människa, utan en människa. Jag får väl försöka hitta ett elsystem som tillfredställer mina behov.\n",
      "Citat i trådstarten så ser elcentralen ut så här, och enligt det jag läst, och gjort så bör jag ta tag i detta nu.\n",
      "För övrigt bor jag inte alls i Stockholm. Jag bor i en förort och lever ett självständigt liv.\n",
      "\n",
      "[Användare anonymiserad]:\n",
      "Telge energi är skit tyvärr, jag känner ett flertal andra som jobbar där. Även när man ringer till dom så svarar dom aldrig utan bara babblar på med reklam. Men det är inte alla som ringer eller besöker dem som klagar direkt..\n",
      "\n",
      "[Användare anonymiserad]:\n",
      "Jag var väldigt skeptisk till de där energiåterförsäljarna, sedan dess har jag inte orkat gå dit. Har köpt så mycket via telefon och liknande att jag inte längre ids räkna på vad det kostar.\n",
      "Jag har också varit med om att el-bolagen som har fasta priser till sina kunder i ett år har haft helt orimligt låga priser och när kunderna sedan ringer säger de att de är nöjda, utan att förstå att det är de som måste sänka priserna (av ett eller annat skäl). De har så klart i sina beskrivningar \"glömt\" något, men\n"
     ]
    }
   ],
   "source": [
    "input_ids = tokenizer.encode(\"Samhälle\", return_tensors=\"pt\")\n",
    "output = model.generate(input_ids, \n",
    "                        max_length=300,\n",
    "                        top_k=50,\n",
    "                        do_sample=True,\n",
    "                        no_repeat_ngram_size=3)\n",
    "output_text = tokenizer.decode(output[0])\n",
    "print(output_text)"
   ]
  },
  {
   "cell_type": "markdown",
   "id": "blessed-freedom",
   "metadata": {},
   "source": [
    "We can see that the generated output looks quite structured, which is not strange since the training data was structured in this particular way. What we get is a generated Flashback forum thread, formatted as raw text.\n",
    "\n",
    "The first line is the Flashback forum (subforums separated by `>`).\n",
    "\n",
    "The second line is the thread title.\n",
    "\n",
    "What follows then are thread posts separated by double newline. Each post starts with the username and a colon, followed by one or several lines of post body. \n",
    "\n",
    "A post can also _quote_ a previous post by a certain user, and in such case the quoted post will be indented with a tab."
   ]
  },
  {
   "cell_type": "markdown",
   "id": "adolescent-activation",
   "metadata": {},
   "source": [
    "## Structured representation of a thread\n",
    "\n",
    "This repo contains a function to parse the generated text into a structured format (`parse_thread`)."
   ]
  },
  {
   "cell_type": "code",
   "execution_count": 10,
   "id": "uniform-thousand",
   "metadata": {
    "scrolled": false
   },
   "outputs": [
    {
     "name": "stdout",
     "output_type": "stream",
     "text": [
      "{\n",
      "  \"forumTitle\": \"Samhälle > Företagsskvaller\",\n",
      "  \"threadTitle\": \"Varning för Telge Energi\",\n",
      "  \"posts\": [\n",
      "    {\n",
      "      \"username\": \"[Användare anonymiserad]\",\n",
      "      \"post\": [\n",
      "        {\n",
      "          \"type\": \"quote\",\n",
      "          \"username\": \"[Användare anonymiserad]\",\n",
      "          \"post\": [\n",
      "            {\n",
      "              \"type\": \"text\",\n",
      "              \"text\": \"Du bor sjalv betala for att ha ett fungerande elsystem eller menar du att du vill betala for el som du inte paverkar?\"\n",
      "            }\n",
      "          ]\n",
      "        },\n",
      "        {\n",
      "          \"type\": \"text\",\n",
      "          \"text\": \"Jag är ingen människa, utan en människa. Jag får väl försöka hitta ett elsystem som tillfredställer mina behov.\"\n",
      "        },\n",
      "        {\n",
      "          \"type\": \"text\",\n",
      "          \"text\": \"Citat i trådstarten så ser elcentralen ut så här, och enligt det jag läst, och gjort så bör jag ta tag i detta nu.\"\n",
      "        },\n",
      "        {\n",
      "          \"type\": \"text\",\n",
      "          \"text\": \"För övrigt bor jag inte alls i Stockholm. Jag bor i en förort och lever ett självständigt liv.\"\n",
      "        }\n",
      "      ]\n",
      "    },\n",
      "    {\n",
      "      \"username\": \"[Användare anonymiserad]\",\n",
      "      \"post\": [\n",
      "        {\n",
      "          \"type\": \"text\",\n",
      "          \"text\": \"Telge energi är skit tyvärr, jag känner ett flertal andra som jobbar där. Även när man ringer till dom så svarar dom aldrig utan bara babblar på med reklam. Men det är inte alla som ringer eller besöker dem som klagar direkt..\"\n",
      "        }\n",
      "      ]\n",
      "    },\n",
      "    {\n",
      "      \"username\": \"[Användare anonymiserad]\",\n",
      "      \"post\": [\n",
      "        {\n",
      "          \"type\": \"text\",\n",
      "          \"text\": \"Jag var väldigt skeptisk till de där energiåterförsäljarna, sedan dess har jag inte orkat gå dit. Har köpt så mycket via telefon och liknande att jag inte längre ids räkna på vad det kostar.\"\n",
      "        },\n",
      "        {\n",
      "          \"type\": \"text\",\n",
      "          \"text\": \"Jag har också varit med om att el-bolagen som har fasta priser till sina kunder i ett år har haft helt orimligt låga priser och när kunderna sedan ringer säger de att de är nöjda, utan att förstå att det är de som måste sänka priserna (av ett eller annat skäl). De har så klart i sina beskrivningar \\\"glömt\\\" något, men\"\n",
      "        }\n",
      "      ]\n",
      "    }\n",
      "  ]\n",
      "}\n"
     ]
    }
   ],
   "source": [
    "parsed_thread = parse_thread(output_text)\n",
    "print(json.dumps(parsed_thread, indent=2, ensure_ascii=False))"
   ]
  },
  {
   "cell_type": "markdown",
   "id": "forbidden-boating",
   "metadata": {},
   "source": [
    "The repo also contains a function (`format_thread`) to go from the structured back to the textual representation:"
   ]
  },
  {
   "cell_type": "code",
   "execution_count": 11,
   "id": "lucky-parish",
   "metadata": {},
   "outputs": [
    {
     "name": "stdout",
     "output_type": "stream",
     "text": [
      "Samhälle > Företagsskvaller\n",
      "Varning för Telge Energi\n",
      "\n",
      "[Användare anonymiserad]:\n",
      "Citat: Fantomsmaerta\n",
      "\tDu bor sjalv betala for att ha ett fungerande elsystem eller menar du att du vill betala for el som du inte paverkar?\n",
      "Jag är ingen människa, utan en människa. Jag får väl försöka hitta ett elsystem som tillfredställer mina behov.\n",
      "Citat i trådstarten så ser elcentralen ut så här, och enligt det jag läst, och gjort så bör jag ta tag i detta nu.\n",
      "För övrigt bor jag inte alls i Stockholm. Jag bor i en förort och lever ett självständigt liv.\n",
      "\n",
      "[Användare anonymiserad]:\n",
      "Telge energi är skit tyvärr, jag känner ett flertal andra som jobbar där. Även när man ringer till dom så svarar dom aldrig utan bara babblar på med reklam. Men det är inte alla som ringer eller besöker dem som klagar direkt..\n",
      "\n",
      "[Användare anonymiserad]:\n",
      "Jag var väldigt skeptisk till de där energiåterförsäljarna, sedan dess har jag inte orkat gå dit. Har köpt så mycket via telefon och liknande att jag inte längre ids räkna på vad det kostar.\n",
      "Jag har också varit med om att el-bolagen som har fasta priser till sina kunder i ett år har haft helt orimligt låga priser och när kunderna sedan ringer säger de att de är nöjda, utan att förstå att det är de som måste sänka priserna (av ett eller annat skäl). De har så klart i sina beskrivningar \"glömt\" något, men\n",
      "\n",
      "\n"
     ]
    }
   ],
   "source": [
    "textual_thread = format_thread(parsed_thread)[0]\n",
    "print(textual_thread)"
   ]
  },
  {
   "cell_type": "markdown",
   "id": "pregnant-investor",
   "metadata": {},
   "source": [
    "## Generating from the structured representation\n",
    "\n",
    "By using both the `format_thread` and `parse_thread` functions, the `generate_post` function can take a structured thread object and generate a post _conditioned on the thread_. Internally, it first formats the thread and generates until the post terminates (=double newline), and finally parses everything back to the structured representation.\n",
    "\n",
    "Let's look at an example. Here we want to generate a post conditioned on the following thread:"
   ]
  },
  {
   "cell_type": "code",
   "execution_count": null,
   "id": "canadian-intellectual",
   "metadata": {},
   "outputs": [],
   "source": [
    "thread = {\n",
    "    \"forumTitle\": \"Samhälle > Juridik\",\n",
    "    \"threadTitle\": \"Min granne väsnas\",\n",
    "    \"posts\": [{\n",
    "        \"username\": \"arggranne\",\n",
    "        \"post\": [\n",
    "            {\"text\": \"Hej! Min granne har fest hela tiden och väsnas något oerhört.\", \"type\": \"text\"},\n",
    "            {\"text\": \"Kan jag anmäla honom för något?\", \"type\": \"text\"}\n",
    "        ]\n",
    "    }]\n",
    "}"
   ]
  },
  {
   "cell_type": "markdown",
   "id": "arbitrary-fighter",
   "metadata": {},
   "source": [
    "That means the language model will be prompted with the following:"
   ]
  },
  {
   "cell_type": "code",
   "execution_count": 16,
   "id": "mechanical-recipe",
   "metadata": {},
   "outputs": [
    {
     "name": "stdout",
     "output_type": "stream",
     "text": [
      "Samhälle > Juridik\n",
      "Min granne väsnas\n",
      "\n",
      "arggranne:\n",
      "Hej! Min granne har fest hela tiden och väsnas något oerhört.\n",
      "Kan jag anmäla honom för något?\n",
      "\n",
      "\n"
     ]
    }
   ],
   "source": [
    "print(format_thread(thread)[0])"
   ]
  },
  {
   "cell_type": "markdown",
   "id": "resident-warrant",
   "metadata": {},
   "source": [
    "So let's try to generate a continuation to this thread using the `generate_post` function:"
   ]
  },
  {
   "cell_type": "code",
   "execution_count": 17,
   "id": "crude-professional",
   "metadata": {},
   "outputs": [],
   "source": [
    "post, generated_text = generate_post(model, tokenizer, thread)"
   ]
  },
  {
   "cell_type": "markdown",
   "id": "billion-front",
   "metadata": {},
   "source": [
    "The function returns two things: `post` is the structured representation of the generated post (dict), and `generated_text` is the full text including the prompt (str)"
   ]
  },
  {
   "cell_type": "code",
   "execution_count": 19,
   "id": "starting-butter",
   "metadata": {},
   "outputs": [
    {
     "name": "stdout",
     "output_type": "stream",
     "text": [
      "Samhälle > Juridik\n",
      "Min granne väsnas\n",
      "\n",
      "arggranne:\n",
      "Hej! Min granne har fest hela tiden och väsnas något oerhört.\n",
      "Kan jag anmäla honom för något?\n",
      "\n",
      "[Användare anonymiserad]:\n",
      "Ja, det kan du.\n",
      "\n",
      "\n"
     ]
    }
   ],
   "source": [
    "print(generated_text)"
   ]
  },
  {
   "cell_type": "code",
   "execution_count": 20,
   "id": "immediate-thirty",
   "metadata": {},
   "outputs": [
    {
     "name": "stdout",
     "output_type": "stream",
     "text": [
      "{\n",
      "  \"username\": \"[Användare anonymiserad]\",\n",
      "  \"post\": [\n",
      "    {\n",
      "      \"type\": \"text\",\n",
      "      \"text\": \"Ja, det kan du.\"\n",
      "    }\n",
      "  ]\n",
      "}\n"
     ]
    }
   ],
   "source": [
    "print(json.dumps(post, indent=2, ensure_ascii=False))"
   ]
  },
  {
   "cell_type": "markdown",
   "id": "prospective-juice",
   "metadata": {},
   "source": [
    "Sometimes the model generates fairly short an boring responses. This can be often be fixed by punishing shorter posts with the `length_penalty` argument (higher number promotes longer posts)"
   ]
  },
  {
   "cell_type": "code",
   "execution_count": 24,
   "id": "invisible-observation",
   "metadata": {},
   "outputs": [
    {
     "name": "stdout",
     "output_type": "stream",
     "text": [
      "Samhälle > Juridik\n",
      "Min granne väsnas\n",
      "\n",
      "arggranne:\n",
      "Hej! Min granne har fest hela tiden och väsnas något oerhört.\n",
      "Kan jag anmäla honom för något?\n",
      "\n",
      "[Användare anonymiserad]:\n",
      "Nej det kan du inte.\n",
      "Det är inte olagligt att störa sina grannar, det är däremot olagligt att göra det.\n",
      "Om du vill göra det får du göra det själv.\n",
      "Du får dock inte störa dina grannar mer än vad som är nödvändigt för att det ska räknas som störande av den allmänna ordningen.\n",
      "Att du inte får störa dina grannars festande är en annan sak.\n",
      "Edit: Det är inte heller olagligt att spela hög musik på allmän plats, så länge det inte är störande för någon annan.\n",
      "http://www.notisum.se/rnp/sls/lag/19700994.htm#K9P4S1\n",
      "Där kan du läsa lite om vad som gäller.\n",
      "EDIT2: Du kan inte göra något åt det, det enda du kan göra är att prata med hyresvärden och säga att du inte vill att han ska störa dina fester. Det är inget olagligt med det, men det är heller inget som hyresvärden kan hjälpa dig med.\n",
      "edit3: Om det är en hyresrätt kan du vända dig till hyresnämnden för att få hjälp med att få rätt.\n",
      "https://lagen.nu/begrepp/Hyresgast/\n",
      "Lycka till!\n",
      "Edit4: Om du inte har möjlighet att prata direkt med hyresvärden kan du kontakta hyresgästföreningen, de kan hjälpa till med att hitta en lösning på problemet. De kan även ge dig råd om hur du ska gå tillväga för att göra en anmälan om störande av allmän ordning. Du kan även vända dig direkt till hyresgästföreningen om du bor i ett flerfamiljshus och vill att de ska ta tag i problemet.\n",
      "www.hyresnamnden.se\n",
      "Ring och prata med dem så hjälper de dig vidare till rätt instans om du inte hittar någon lösning.\n",
      "\n",
      "\n"
     ]
    }
   ],
   "source": [
    "post, generated_text = generate_post(model, tokenizer, thread,\n",
    "                                     length_penalty=5)\n",
    "print(generated_text)"
   ]
  },
  {
   "cell_type": "markdown",
   "id": "swiss-authentication",
   "metadata": {},
   "source": [
    "The `generate_post` function internally uses the `beam_sample()` method provided by `transformers` to decode from the model. This is also what was used in the paper as it trades short/booring responses against long but incoherent somewhat well. This could probably be optimized further!"
   ]
  }
 ],
 "metadata": {
  "kernelspec": {
   "display_name": "Python 3",
   "language": "python",
   "name": "python3"
  },
  "language_info": {
   "codemirror_mode": {
    "name": "ipython",
    "version": 3
   },
   "file_extension": ".py",
   "mimetype": "text/x-python",
   "name": "python",
   "nbconvert_exporter": "python",
   "pygments_lexer": "ipython3",
   "version": "3.6.9"
  }
 },
 "nbformat": 4,
 "nbformat_minor": 5
}
